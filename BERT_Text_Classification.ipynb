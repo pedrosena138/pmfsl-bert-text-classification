{
  "nbformat": 4,
  "nbformat_minor": 0,
  "metadata": {
    "colab": {
      "provenance": [],
      "collapsed_sections": [],
      "mount_file_id": "1nzLs3sYAjOSjRi1QS2Fd9z2rQ_xk-IFB",
      "authorship_tag": "ABX9TyOvmRbOacRq04thRNteyTCx",
      "include_colab_link": true
    },
    "kernelspec": {
      "name": "python3",
      "display_name": "Python 3"
    },
    "language_info": {
      "name": "python"
    },
    "accelerator": "GPU",
    "widgets": {
      "application/vnd.jupyter.widget-state+json": {
        "0f117d8db484400bbe91ff9755e86dc9": {
          "model_module": "@jupyter-widgets/controls",
          "model_name": "HBoxModel",
          "model_module_version": "1.5.0",
          "state": {
            "_dom_classes": [],
            "_model_module": "@jupyter-widgets/controls",
            "_model_module_version": "1.5.0",
            "_model_name": "HBoxModel",
            "_view_count": null,
            "_view_module": "@jupyter-widgets/controls",
            "_view_module_version": "1.5.0",
            "_view_name": "HBoxView",
            "box_style": "",
            "children": [
              "IPY_MODEL_e05d749365e24950ac0e362c506cb1d5",
              "IPY_MODEL_c7dc99afb77c4174b3ecc6156a4c82cf",
              "IPY_MODEL_18da82344a71484192aa585915af1e80"
            ],
            "layout": "IPY_MODEL_7972ccb1f9e34e70a7983a6904feac49"
          }
        },
        "e05d749365e24950ac0e362c506cb1d5": {
          "model_module": "@jupyter-widgets/controls",
          "model_name": "HTMLModel",
          "model_module_version": "1.5.0",
          "state": {
            "_dom_classes": [],
            "_model_module": "@jupyter-widgets/controls",
            "_model_module_version": "1.5.0",
            "_model_name": "HTMLModel",
            "_view_count": null,
            "_view_module": "@jupyter-widgets/controls",
            "_view_module_version": "1.5.0",
            "_view_name": "HTMLView",
            "description": "",
            "description_tooltip": null,
            "layout": "IPY_MODEL_dd72df99838449b7ab9a5af5964c7246",
            "placeholder": "​",
            "style": "IPY_MODEL_bc3875dc32ce4c3ca7bd0286145a8b1e",
            "value": "100%"
          }
        },
        "c7dc99afb77c4174b3ecc6156a4c82cf": {
          "model_module": "@jupyter-widgets/controls",
          "model_name": "FloatProgressModel",
          "model_module_version": "1.5.0",
          "state": {
            "_dom_classes": [],
            "_model_module": "@jupyter-widgets/controls",
            "_model_module_version": "1.5.0",
            "_model_name": "FloatProgressModel",
            "_view_count": null,
            "_view_module": "@jupyter-widgets/controls",
            "_view_module_version": "1.5.0",
            "_view_name": "ProgressView",
            "bar_style": "success",
            "description": "",
            "description_tooltip": null,
            "layout": "IPY_MODEL_e20d45182be6441faf529d4240ccf6cf",
            "max": 3,
            "min": 0,
            "orientation": "horizontal",
            "style": "IPY_MODEL_29428afbaaf34e978e02b848ae381308",
            "value": 3
          }
        },
        "18da82344a71484192aa585915af1e80": {
          "model_module": "@jupyter-widgets/controls",
          "model_name": "HTMLModel",
          "model_module_version": "1.5.0",
          "state": {
            "_dom_classes": [],
            "_model_module": "@jupyter-widgets/controls",
            "_model_module_version": "1.5.0",
            "_model_name": "HTMLModel",
            "_view_count": null,
            "_view_module": "@jupyter-widgets/controls",
            "_view_module_version": "1.5.0",
            "_view_name": "HTMLView",
            "description": "",
            "description_tooltip": null,
            "layout": "IPY_MODEL_59ee95d60ba94b519d34caf8c057dc59",
            "placeholder": "​",
            "style": "IPY_MODEL_e91612cedbc84c2383a41052a01950b1",
            "value": " 3/3 [00:00&lt;00:00, 33.53it/s]"
          }
        },
        "7972ccb1f9e34e70a7983a6904feac49": {
          "model_module": "@jupyter-widgets/base",
          "model_name": "LayoutModel",
          "model_module_version": "1.2.0",
          "state": {
            "_model_module": "@jupyter-widgets/base",
            "_model_module_version": "1.2.0",
            "_model_name": "LayoutModel",
            "_view_count": null,
            "_view_module": "@jupyter-widgets/base",
            "_view_module_version": "1.2.0",
            "_view_name": "LayoutView",
            "align_content": null,
            "align_items": null,
            "align_self": null,
            "border": null,
            "bottom": null,
            "display": null,
            "flex": null,
            "flex_flow": null,
            "grid_area": null,
            "grid_auto_columns": null,
            "grid_auto_flow": null,
            "grid_auto_rows": null,
            "grid_column": null,
            "grid_gap": null,
            "grid_row": null,
            "grid_template_areas": null,
            "grid_template_columns": null,
            "grid_template_rows": null,
            "height": null,
            "justify_content": null,
            "justify_items": null,
            "left": null,
            "margin": null,
            "max_height": null,
            "max_width": null,
            "min_height": null,
            "min_width": null,
            "object_fit": null,
            "object_position": null,
            "order": null,
            "overflow": null,
            "overflow_x": null,
            "overflow_y": null,
            "padding": null,
            "right": null,
            "top": null,
            "visibility": null,
            "width": null
          }
        },
        "dd72df99838449b7ab9a5af5964c7246": {
          "model_module": "@jupyter-widgets/base",
          "model_name": "LayoutModel",
          "model_module_version": "1.2.0",
          "state": {
            "_model_module": "@jupyter-widgets/base",
            "_model_module_version": "1.2.0",
            "_model_name": "LayoutModel",
            "_view_count": null,
            "_view_module": "@jupyter-widgets/base",
            "_view_module_version": "1.2.0",
            "_view_name": "LayoutView",
            "align_content": null,
            "align_items": null,
            "align_self": null,
            "border": null,
            "bottom": null,
            "display": null,
            "flex": null,
            "flex_flow": null,
            "grid_area": null,
            "grid_auto_columns": null,
            "grid_auto_flow": null,
            "grid_auto_rows": null,
            "grid_column": null,
            "grid_gap": null,
            "grid_row": null,
            "grid_template_areas": null,
            "grid_template_columns": null,
            "grid_template_rows": null,
            "height": null,
            "justify_content": null,
            "justify_items": null,
            "left": null,
            "margin": null,
            "max_height": null,
            "max_width": null,
            "min_height": null,
            "min_width": null,
            "object_fit": null,
            "object_position": null,
            "order": null,
            "overflow": null,
            "overflow_x": null,
            "overflow_y": null,
            "padding": null,
            "right": null,
            "top": null,
            "visibility": null,
            "width": null
          }
        },
        "bc3875dc32ce4c3ca7bd0286145a8b1e": {
          "model_module": "@jupyter-widgets/controls",
          "model_name": "DescriptionStyleModel",
          "model_module_version": "1.5.0",
          "state": {
            "_model_module": "@jupyter-widgets/controls",
            "_model_module_version": "1.5.0",
            "_model_name": "DescriptionStyleModel",
            "_view_count": null,
            "_view_module": "@jupyter-widgets/base",
            "_view_module_version": "1.2.0",
            "_view_name": "StyleView",
            "description_width": ""
          }
        },
        "e20d45182be6441faf529d4240ccf6cf": {
          "model_module": "@jupyter-widgets/base",
          "model_name": "LayoutModel",
          "model_module_version": "1.2.0",
          "state": {
            "_model_module": "@jupyter-widgets/base",
            "_model_module_version": "1.2.0",
            "_model_name": "LayoutModel",
            "_view_count": null,
            "_view_module": "@jupyter-widgets/base",
            "_view_module_version": "1.2.0",
            "_view_name": "LayoutView",
            "align_content": null,
            "align_items": null,
            "align_self": null,
            "border": null,
            "bottom": null,
            "display": null,
            "flex": null,
            "flex_flow": null,
            "grid_area": null,
            "grid_auto_columns": null,
            "grid_auto_flow": null,
            "grid_auto_rows": null,
            "grid_column": null,
            "grid_gap": null,
            "grid_row": null,
            "grid_template_areas": null,
            "grid_template_columns": null,
            "grid_template_rows": null,
            "height": null,
            "justify_content": null,
            "justify_items": null,
            "left": null,
            "margin": null,
            "max_height": null,
            "max_width": null,
            "min_height": null,
            "min_width": null,
            "object_fit": null,
            "object_position": null,
            "order": null,
            "overflow": null,
            "overflow_x": null,
            "overflow_y": null,
            "padding": null,
            "right": null,
            "top": null,
            "visibility": null,
            "width": null
          }
        },
        "29428afbaaf34e978e02b848ae381308": {
          "model_module": "@jupyter-widgets/controls",
          "model_name": "ProgressStyleModel",
          "model_module_version": "1.5.0",
          "state": {
            "_model_module": "@jupyter-widgets/controls",
            "_model_module_version": "1.5.0",
            "_model_name": "ProgressStyleModel",
            "_view_count": null,
            "_view_module": "@jupyter-widgets/base",
            "_view_module_version": "1.2.0",
            "_view_name": "StyleView",
            "bar_color": null,
            "description_width": ""
          }
        },
        "59ee95d60ba94b519d34caf8c057dc59": {
          "model_module": "@jupyter-widgets/base",
          "model_name": "LayoutModel",
          "model_module_version": "1.2.0",
          "state": {
            "_model_module": "@jupyter-widgets/base",
            "_model_module_version": "1.2.0",
            "_model_name": "LayoutModel",
            "_view_count": null,
            "_view_module": "@jupyter-widgets/base",
            "_view_module_version": "1.2.0",
            "_view_name": "LayoutView",
            "align_content": null,
            "align_items": null,
            "align_self": null,
            "border": null,
            "bottom": null,
            "display": null,
            "flex": null,
            "flex_flow": null,
            "grid_area": null,
            "grid_auto_columns": null,
            "grid_auto_flow": null,
            "grid_auto_rows": null,
            "grid_column": null,
            "grid_gap": null,
            "grid_row": null,
            "grid_template_areas": null,
            "grid_template_columns": null,
            "grid_template_rows": null,
            "height": null,
            "justify_content": null,
            "justify_items": null,
            "left": null,
            "margin": null,
            "max_height": null,
            "max_width": null,
            "min_height": null,
            "min_width": null,
            "object_fit": null,
            "object_position": null,
            "order": null,
            "overflow": null,
            "overflow_x": null,
            "overflow_y": null,
            "padding": null,
            "right": null,
            "top": null,
            "visibility": null,
            "width": null
          }
        },
        "e91612cedbc84c2383a41052a01950b1": {
          "model_module": "@jupyter-widgets/controls",
          "model_name": "DescriptionStyleModel",
          "model_module_version": "1.5.0",
          "state": {
            "_model_module": "@jupyter-widgets/controls",
            "_model_module_version": "1.5.0",
            "_model_name": "DescriptionStyleModel",
            "_view_count": null,
            "_view_module": "@jupyter-widgets/base",
            "_view_module_version": "1.2.0",
            "_view_name": "StyleView",
            "description_width": ""
          }
        }
      }
    },
    "gpuClass": "standard"
  },
  "cells": [
    {
      "cell_type": "markdown",
      "metadata": {
        "id": "view-in-github",
        "colab_type": "text"
      },
      "source": [
        "<a href=\"https://colab.research.google.com/github/pedrosena138/pt-bert-text-classification/blob/main/BERT_Text_Classification.ipynb\" target=\"_parent\"><img src=\"https://colab.research.google.com/assets/colab-badge.svg\" alt=\"Open In Colab\"/></a>"
      ]
    },
    {
      "cell_type": "code",
      "source": [
        "!pip install datasets transformers evaluate"
      ],
      "metadata": {
        "colab": {
          "base_uri": "https://localhost:8080/"
        },
        "id": "vUkhHLvu-WYL",
        "outputId": "56ceebe2-4654-4f11-b8d0-3fc2db478fb4"
      },
      "execution_count": 9,
      "outputs": [
        {
          "output_type": "stream",
          "name": "stdout",
          "text": [
            "Looking in indexes: https://pypi.org/simple, https://us-python.pkg.dev/colab-wheels/public/simple/\n",
            "Requirement already satisfied: datasets in /usr/local/lib/python3.7/dist-packages (2.6.1)\n",
            "Requirement already satisfied: transformers in /usr/local/lib/python3.7/dist-packages (4.24.0)\n",
            "Requirement already satisfied: evaluate in /usr/local/lib/python3.7/dist-packages (0.3.0)\n",
            "Requirement already satisfied: numpy>=1.17 in /usr/local/lib/python3.7/dist-packages (from datasets) (1.21.6)\n",
            "Requirement already satisfied: packaging in /usr/local/lib/python3.7/dist-packages (from datasets) (21.3)\n",
            "Requirement already satisfied: fsspec[http]>=2021.11.1 in /usr/local/lib/python3.7/dist-packages (from datasets) (2022.10.0)\n",
            "Requirement already satisfied: multiprocess in /usr/local/lib/python3.7/dist-packages (from datasets) (0.70.13)\n",
            "Requirement already satisfied: requests>=2.19.0 in /usr/local/lib/python3.7/dist-packages (from datasets) (2.23.0)\n",
            "Requirement already satisfied: pyarrow>=6.0.0 in /usr/local/lib/python3.7/dist-packages (from datasets) (6.0.1)\n",
            "Requirement already satisfied: pandas in /usr/local/lib/python3.7/dist-packages (from datasets) (1.3.5)\n",
            "Requirement already satisfied: tqdm>=4.62.1 in /usr/local/lib/python3.7/dist-packages (from datasets) (4.64.1)\n",
            "Requirement already satisfied: responses<0.19 in /usr/local/lib/python3.7/dist-packages (from datasets) (0.18.0)\n",
            "Requirement already satisfied: pyyaml>=5.1 in /usr/local/lib/python3.7/dist-packages (from datasets) (6.0)\n",
            "Requirement already satisfied: aiohttp in /usr/local/lib/python3.7/dist-packages (from datasets) (3.8.3)\n",
            "Requirement already satisfied: xxhash in /usr/local/lib/python3.7/dist-packages (from datasets) (3.1.0)\n",
            "Requirement already satisfied: importlib-metadata in /usr/local/lib/python3.7/dist-packages (from datasets) (4.13.0)\n",
            "Requirement already satisfied: huggingface-hub<1.0.0,>=0.2.0 in /usr/local/lib/python3.7/dist-packages (from datasets) (0.10.1)\n",
            "Requirement already satisfied: dill<0.3.6 in /usr/local/lib/python3.7/dist-packages (from datasets) (0.3.5.1)\n",
            "Requirement already satisfied: frozenlist>=1.1.1 in /usr/local/lib/python3.7/dist-packages (from aiohttp->datasets) (1.3.1)\n",
            "Requirement already satisfied: aiosignal>=1.1.2 in /usr/local/lib/python3.7/dist-packages (from aiohttp->datasets) (1.2.0)\n",
            "Requirement already satisfied: async-timeout<5.0,>=4.0.0a3 in /usr/local/lib/python3.7/dist-packages (from aiohttp->datasets) (4.0.2)\n",
            "Requirement already satisfied: yarl<2.0,>=1.0 in /usr/local/lib/python3.7/dist-packages (from aiohttp->datasets) (1.8.1)\n",
            "Requirement already satisfied: multidict<7.0,>=4.5 in /usr/local/lib/python3.7/dist-packages (from aiohttp->datasets) (6.0.2)\n",
            "Requirement already satisfied: charset-normalizer<3.0,>=2.0 in /usr/local/lib/python3.7/dist-packages (from aiohttp->datasets) (2.1.1)\n",
            "Requirement already satisfied: typing-extensions>=3.7.4 in /usr/local/lib/python3.7/dist-packages (from aiohttp->datasets) (4.1.1)\n",
            "Requirement already satisfied: asynctest==0.13.0 in /usr/local/lib/python3.7/dist-packages (from aiohttp->datasets) (0.13.0)\n",
            "Requirement already satisfied: attrs>=17.3.0 in /usr/local/lib/python3.7/dist-packages (from aiohttp->datasets) (22.1.0)\n",
            "Requirement already satisfied: filelock in /usr/local/lib/python3.7/dist-packages (from huggingface-hub<1.0.0,>=0.2.0->datasets) (3.8.0)\n",
            "Requirement already satisfied: pyparsing!=3.0.5,>=2.0.2 in /usr/local/lib/python3.7/dist-packages (from packaging->datasets) (3.0.9)\n",
            "Requirement already satisfied: chardet<4,>=3.0.2 in /usr/local/lib/python3.7/dist-packages (from requests>=2.19.0->datasets) (3.0.4)\n",
            "Requirement already satisfied: urllib3!=1.25.0,!=1.25.1,<1.26,>=1.21.1 in /usr/local/lib/python3.7/dist-packages (from requests>=2.19.0->datasets) (1.25.11)\n",
            "Requirement already satisfied: certifi>=2017.4.17 in /usr/local/lib/python3.7/dist-packages (from requests>=2.19.0->datasets) (2022.9.24)\n",
            "Requirement already satisfied: idna<3,>=2.5 in /usr/local/lib/python3.7/dist-packages (from requests>=2.19.0->datasets) (2.10)\n",
            "Requirement already satisfied: regex!=2019.12.17 in /usr/local/lib/python3.7/dist-packages (from transformers) (2022.6.2)\n",
            "Requirement already satisfied: tokenizers!=0.11.3,<0.14,>=0.11.1 in /usr/local/lib/python3.7/dist-packages (from transformers) (0.13.2)\n",
            "Requirement already satisfied: zipp>=0.5 in /usr/local/lib/python3.7/dist-packages (from importlib-metadata->datasets) (3.10.0)\n",
            "Requirement already satisfied: pytz>=2017.3 in /usr/local/lib/python3.7/dist-packages (from pandas->datasets) (2022.5)\n",
            "Requirement already satisfied: python-dateutil>=2.7.3 in /usr/local/lib/python3.7/dist-packages (from pandas->datasets) (2.8.2)\n",
            "Requirement already satisfied: six>=1.5 in /usr/local/lib/python3.7/dist-packages (from python-dateutil>=2.7.3->pandas->datasets) (1.15.0)\n"
          ]
        }
      ]
    },
    {
      "cell_type": "code",
      "execution_count": 10,
      "metadata": {
        "id": "zO9WELob3yZJ"
      },
      "outputs": [],
      "source": [
        "import tensorflow as tf\n",
        "from tensorflow import keras\n",
        "from transformers.keras_callbacks import KerasMetricCallback\n",
        "\n",
        "from datasets import load_dataset\n",
        "from transformers import TFAutoModelForSequenceClassification, BertTokenizer, DataCollatorWithPadding, create_optimizer, pipeline\n",
        "from evaluate import load\n",
        "\n",
        "import matplotlib as mpl\n",
        "import matplotlib.pyplot as plt\n",
        "import numpy as np\n",
        "import pandas as pd\n",
        "import seaborn as sns\n",
        "\n",
        "from sklearn.metrics import confusion_matrix\n",
        "from sklearn.model_selection import train_test_split"
      ]
    },
    {
      "cell_type": "code",
      "source": [
        "BATCH_SIZE = 16\n",
        "NUM_EPOCHS = 15\n",
        "\n",
        "mpl.rcParams['figure.figsize'] = (12, 10)\n",
        "colors = plt.rcParams['axes.prop_cycle'].by_key()['color']\n",
        "\n",
        "MODELS = {\n",
        "    \"pt_br-base\": \"neuralmind/bert-base-portuguese-cased\",\n",
        "    \"pt_br-large\": \"neuralmind/bert-large-portuguese-cased\",\n",
        "    \"multi\": \"bert-base-multilingual-cased\"\n",
        "}"
      ],
      "metadata": {
        "id": "LkwwVB1HMEsp"
      },
      "execution_count": 11,
      "outputs": []
    },
    {
      "cell_type": "code",
      "source": [
        "df = load_dataset(\"pmfsl/course-feedback-pt_br\")\n",
        "df"
      ],
      "metadata": {
        "colab": {
          "base_uri": "https://localhost:8080/",
          "height": 347,
          "referenced_widgets": [
            "0f117d8db484400bbe91ff9755e86dc9",
            "e05d749365e24950ac0e362c506cb1d5",
            "c7dc99afb77c4174b3ecc6156a4c82cf",
            "18da82344a71484192aa585915af1e80",
            "7972ccb1f9e34e70a7983a6904feac49",
            "dd72df99838449b7ab9a5af5964c7246",
            "bc3875dc32ce4c3ca7bd0286145a8b1e",
            "e20d45182be6441faf529d4240ccf6cf",
            "29428afbaaf34e978e02b848ae381308",
            "59ee95d60ba94b519d34caf8c057dc59",
            "e91612cedbc84c2383a41052a01950b1"
          ]
        },
        "id": "xxNVEPuO-3wH",
        "outputId": "349f2fa3-d3bf-4e4f-dd8e-e9d2f7f18dfd"
      },
      "execution_count": 12,
      "outputs": [
        {
          "output_type": "stream",
          "name": "stderr",
          "text": [
            "WARNING:datasets.builder:Using custom data configuration pmfsl--course-feedback-pt_br-50eeeb4366f2cbbf\n",
            "WARNING:datasets.builder:Found cached dataset csv (/root/.cache/huggingface/datasets/pmfsl___csv/pmfsl--course-feedback-pt_br-50eeeb4366f2cbbf/0.0.0/6b34fb8fcf56f7c8ba51dc895bfa2bfbe43546f190a60fcf74bb5e8afdcc2317)\n"
          ]
        },
        {
          "output_type": "display_data",
          "data": {
            "text/plain": [
              "  0%|          | 0/3 [00:00<?, ?it/s]"
            ],
            "application/vnd.jupyter.widget-view+json": {
              "version_major": 2,
              "version_minor": 0,
              "model_id": "0f117d8db484400bbe91ff9755e86dc9"
            }
          },
          "metadata": {}
        },
        {
          "output_type": "execute_result",
          "data": {
            "text/plain": [
              "DatasetDict({\n",
              "    train: Dataset({\n",
              "        features: ['text', 'label'],\n",
              "        num_rows: 1000\n",
              "    })\n",
              "    test: Dataset({\n",
              "        features: ['text', 'label'],\n",
              "        num_rows: 139\n",
              "    })\n",
              "    validation: Dataset({\n",
              "        features: ['text', 'label'],\n",
              "        num_rows: 251\n",
              "    })\n",
              "})"
            ]
          },
          "metadata": {},
          "execution_count": 12
        }
      ]
    },
    {
      "cell_type": "code",
      "source": [
        "train_neg, train_pos = np.bincount(df['train']['label'])\n",
        "test_neg, test_pos = np.bincount(df['test']['label'])\n",
        "val_neg, val_pos = np.bincount(df['validation']['label'])\n",
        "\n",
        "neg = train_neg + test_neg + val_neg\n",
        "pos = train_pos + test_pos + val_pos\n",
        "\n",
        "total = neg + pos\n",
        "\n",
        "weight_for_0 = (1 / neg) * (total / 2.0)\n",
        "weight_for_1 = (1 / pos) * (total / 2.0)\n",
        "\n",
        "class_weight = {0: weight_for_0, 1: weight_for_1}\n",
        "\n",
        "print('Weight for class 0: {:.2f}'.format(weight_for_0))\n",
        "print('Weight for class 1: {:.2f}'.format(weight_for_1))\n",
        "print('\\nExamples:\\n    Total: {}\\n    Positive: {} ({:.2f}% of total)\\n    Negative: {} ({:.2f}% of total)\\n'.format(\n",
        "    total, pos, 100 * pos / total, neg, 100 * neg / total))"
      ],
      "metadata": {
        "colab": {
          "base_uri": "https://localhost:8080/"
        },
        "id": "76MKcz-UdIrR",
        "outputId": "0fd50987-4aea-4fcd-d0c4-cf898f449cb3"
      },
      "execution_count": 13,
      "outputs": [
        {
          "output_type": "stream",
          "name": "stdout",
          "text": [
            "Weight for class 0: 4.43\n",
            "Weight for class 1: 0.56\n",
            "\n",
            "Examples:\n",
            "    Total: 1390\n",
            "    Positive: 1233 (88.71% of total)\n",
            "    Negative: 157 (11.29% of total)\n",
            "\n"
          ]
        }
      ]
    },
    {
      "cell_type": "code",
      "source": [
        "max_length = len(df['train']['label'])\n",
        "model_name = MODELS['pt_br-base']\n",
        "tokenizer = BertTokenizer.from_pretrained(model_name, model_max_length=max_length)\n",
        "\n",
        "def preprocess_function(examples):\n",
        "    return tokenizer(examples[\"text\"], truncation=True)"
      ],
      "metadata": {
        "id": "Ydn1A-KgE4wF"
      },
      "execution_count": 14,
      "outputs": []
    },
    {
      "cell_type": "code",
      "source": [
        "pre_tokenizer_columns = set(df[\"train\"].features)\n",
        "encoded_df = df.map(preprocess_function, batched=True)\n",
        "tokenizer_columns = list(set(encoded_df[\"train\"].features) - pre_tokenizer_columns)\n",
        "print(\"Columns added by tokenizer:\", tokenizer_columns)"
      ],
      "metadata": {
        "colab": {
          "base_uri": "https://localhost:8080/"
        },
        "id": "PXU8r-hMe10l",
        "outputId": "b757bee8-2b0d-430e-ecbb-4960f77ad58e"
      },
      "execution_count": 15,
      "outputs": [
        {
          "output_type": "stream",
          "name": "stderr",
          "text": [
            "WARNING:datasets.arrow_dataset:Loading cached processed dataset at /root/.cache/huggingface/datasets/pmfsl___csv/pmfsl--course-feedback-pt_br-50eeeb4366f2cbbf/0.0.0/6b34fb8fcf56f7c8ba51dc895bfa2bfbe43546f190a60fcf74bb5e8afdcc2317/cache-27d05ed66271ff5e.arrow\n",
            "WARNING:datasets.arrow_dataset:Loading cached processed dataset at /root/.cache/huggingface/datasets/pmfsl___csv/pmfsl--course-feedback-pt_br-50eeeb4366f2cbbf/0.0.0/6b34fb8fcf56f7c8ba51dc895bfa2bfbe43546f190a60fcf74bb5e8afdcc2317/cache-c75d790d615b9188.arrow\n",
            "WARNING:datasets.arrow_dataset:Loading cached processed dataset at /root/.cache/huggingface/datasets/pmfsl___csv/pmfsl--course-feedback-pt_br-50eeeb4366f2cbbf/0.0.0/6b34fb8fcf56f7c8ba51dc895bfa2bfbe43546f190a60fcf74bb5e8afdcc2317/cache-251d766997bc244d.arrow\n"
          ]
        },
        {
          "output_type": "stream",
          "name": "stdout",
          "text": [
            "Columns added by tokenizer: ['attention_mask', 'input_ids', 'token_type_ids']\n"
          ]
        }
      ]
    },
    {
      "cell_type": "code",
      "source": [
        "def plot_confusion_matrix(labels, predictions, p=0.5):\n",
        "    cm = confusion_matrix(labels, predictions)\n",
        "    plt.figure(figsize=(8,8))\n",
        "    sns.heatmap(cm, annot=True, fmt=\"d\")\n",
        "    plt.title('Confusion matrix @{:.2f}'.format(p))\n",
        "    plt.ylabel('Actual label')\n",
        "    plt.xlabel('Predicted label')\n",
        "\n",
        "    print('True Negatives: ', cm[0][0])\n",
        "    print('False Positives: ', cm[0][1])\n",
        "    print('False Negatives: ', cm[1][0])\n",
        "    print('True Positives: ', cm[1][1])\n",
        "    print('Total Positives: ', np.sum(cm[1]))\n",
        "\n",
        "def plot_metrics(history, metrics, title):\n",
        "    plt.title(title, fontsize=16)\n",
        "    for n, metric in enumerate(metrics):\n",
        "        name = metric.replace(\"_\",\" \").capitalize()\n",
        "        plt.subplot(3,2, n+1)\n",
        "        plt.plot(history.epoch, history.history[metric], color=colors[n])\n",
        "        plt.xlabel('Epoch')\n",
        "        plt.ylabel(name)\n",
        "        \n",
        "        if metric == 'loss':\n",
        "            plt.ylim([0, plt.ylim()[1]])\n",
        "        else:\n",
        "            plt.ylim([0,1])"
      ],
      "metadata": {
        "id": "lt2AlWEXKVIz"
      },
      "execution_count": 16,
      "outputs": []
    },
    {
      "cell_type": "code",
      "source": [
        "id2label = {0: \"Negative\", 1: \"Positive\"}\n",
        "label2id = {val: key for key, val in id2label.items()}\n",
        "\n",
        "batches_per_epoch = len(encoded_df[\"train\"]) // BATCH_SIZE\n",
        "total_train_steps = int(batches_per_epoch * NUM_EPOCHS)\n",
        "\n",
        "# optimizer = keras.optimizers.Adam(learning_rate=2e-5, epsilon=1e-08)\n",
        "optimizer, schedule = create_optimizer(\n",
        "    init_lr=2e-5, num_warmup_steps=0, num_train_steps=total_train_steps\n",
        ")\n",
        "\n",
        "from_pt = True if model_name == MODELS[\"pt_br-large\"] else False\n",
        "\n",
        "model = TFAutoModelForSequenceClassification.from_pretrained(model_name,\n",
        "                                                             num_labels=2,\n",
        "                                                             id2label=id2label, \n",
        "                                                             label2id=label2id,\n",
        "                                                             from_pt=from_pt)\n",
        "\n",
        "model.compile(\n",
        "        optimizer=optimizer,\n",
        "        loss=keras.losses.BinaryCrossentropy())"
      ],
      "metadata": {
        "colab": {
          "base_uri": "https://localhost:8080/"
        },
        "id": "8BjX_5VvFrg9",
        "outputId": "7759f6b3-a4e6-4733-b046-18be0c38e75f"
      },
      "execution_count": 17,
      "outputs": [
        {
          "output_type": "stream",
          "name": "stderr",
          "text": [
            "All model checkpoint layers were used when initializing TFBertForSequenceClassification.\n",
            "\n",
            "Some layers of TFBertForSequenceClassification were not initialized from the model checkpoint at neuralmind/bert-base-portuguese-cased and are newly initialized: ['classifier', 'bert/pooler/dense/kernel:0', 'bert/pooler/dense/bias:0']\n",
            "You should probably TRAIN this model on a down-stream task to be able to use it for predictions and inference.\n"
          ]
        }
      ]
    },
    {
      "cell_type": "code",
      "source": [
        "# balanced_model = TFAutoModelForSequenceClassification.from_pretrained(model_name,\n",
        "#                                                              num_labels=2,\n",
        "#                                                              id2label=id2label, \n",
        "#                                                              label2id=label2id,\n",
        "#                                                              from_pt=from_pt)\n",
        "\n",
        "# balanced_model.compile(\n",
        "#         optimizer=optimizer,\n",
        "#         loss=keras.losses.BinaryCrossentropy())"
      ],
      "metadata": {
        "id": "K-yyufBP8RX8"
      },
      "execution_count": 18,
      "outputs": []
    },
    {
      "cell_type": "code",
      "source": [
        "data_collator = DataCollatorWithPadding(tokenizer=tokenizer, return_tensors=\"tf\")\n",
        "\n",
        "tf_train_set = model.prepare_tf_dataset(\n",
        "    encoded_df[\"train\"],\n",
        "    shuffle=True,\n",
        "    batch_size=BATCH_SIZE,\n",
        "    collate_fn=data_collator,\n",
        ")\n",
        "\n",
        "tf_validation_set = model.prepare_tf_dataset(\n",
        "    encoded_df[\"validation\"],\n",
        "    shuffle=False,\n",
        "    batch_size=BATCH_SIZE,\n",
        "    collate_fn=data_collator,\n",
        ")\n",
        "\n",
        "tf_test_set = model.prepare_tf_dataset(\n",
        "    encoded_df[\"test\"],\n",
        "    shuffle=False,\n",
        "    batch_size=BATCH_SIZE,\n",
        "    collate_fn=data_collator,\n",
        ")"
      ],
      "metadata": {
        "id": "cOdwJNYqGTH0"
      },
      "execution_count": 19,
      "outputs": []
    },
    {
      "cell_type": "code",
      "source": [
        "class Metric:\n",
        "    def __init__(self, name, balanced=False):\n",
        "        self.metric_name = name\n",
        "        self.func = load(self.metric_name)\n",
        "        self.balanced = balanced\n",
        "\n",
        "    def callback(self):\n",
        "        return KerasMetricCallback(metric_fn=self.compute, eval_dataset=tf_validation_set)\n",
        "        \n",
        "    def compute(self, eval_predictions):\n",
        "        predictions, labels = eval_predictions\n",
        "\n",
        "        if self.balanced:\n",
        "            predictions = np.argmax(predictions, axis=1)\n",
        "        else:   \n",
        "            predictions = predictions[:, 0]\n",
        "\n",
        "        compute_func = self.func.compute(predictions=predictions, references=labels)\n",
        "\n",
        "\n",
        "        if self.metric_name in ('precision', 'recall'):\n",
        "            compute_func = self.func.compute(predictions=predictions, references=labels, zero_division=0)\n",
        "          \n",
        "        return compute_func\n",
        "\n",
        "callbacks = [\n",
        "    Metric('precision').callback(),\n",
        "    Metric('recall').callback(),\n",
        "    Metric('accuracy').callback(),\n",
        "    Metric('f1').callback()\n",
        "]\n",
        "\n",
        "# balanced_callbacks = [\n",
        "#     Metric('precision', True).callback(),\n",
        "#     Metric('recall', True).callback(),\n",
        "#     Metric('accuracy', True).callback(),\n",
        "#     Metric('f1', True).callback()\n",
        "# ]"
      ],
      "metadata": {
        "id": "lZJce_affvQu"
      },
      "execution_count": 20,
      "outputs": []
    },
    {
      "cell_type": "code",
      "source": [
        "history = model.fit(tf_train_set, epochs=NUM_EPOCHS, callbacks=callbacks)\n",
        "model.save_weights('drive/MyDrive/TCC/weights/base-unbalanced-weights.h5')"
      ],
      "metadata": {
        "colab": {
          "base_uri": "https://localhost:8080/"
        },
        "id": "dNUojIpTItgn",
        "outputId": "3beb61c6-9b9c-4995-ec30-c61adc490771"
      },
      "execution_count": 21,
      "outputs": [
        {
          "output_type": "stream",
          "name": "stdout",
          "text": [
            "Epoch 1/15\n",
            "62/62 [==============================] - 67s 579ms/step - loss: 0.7897 - precision: 0.9600 - recall: 0.5381 - accuracy: 0.5697 - f1: 0.6897\n",
            "Epoch 2/15\n",
            "62/62 [==============================] - 31s 503ms/step - loss: 0.4249 - precision: 0.9915 - recall: 0.5202 - accuracy: 0.5697 - f1: 0.6824\n",
            "Epoch 3/15\n",
            "62/62 [==============================] - 30s 480ms/step - loss: 0.2532 - precision: 0.9459 - recall: 0.9417 - accuracy: 0.9004 - f1: 0.9438\n",
            "Epoch 4/15\n",
            "62/62 [==============================] - 30s 484ms/step - loss: 0.2170 - precision: 0.9930 - recall: 0.6368 - accuracy: 0.6733 - f1: 0.7760\n",
            "Epoch 5/15\n",
            "62/62 [==============================] - 29s 464ms/step - loss: 0.1842 - precision: 0.9657 - recall: 0.8834 - accuracy: 0.8685 - f1: 0.9227\n",
            "Epoch 6/15\n",
            "62/62 [==============================] - 29s 462ms/step - loss: 0.0889 - precision: 0.9617 - recall: 0.9013 - accuracy: 0.8805 - f1: 0.9306\n",
            "Epoch 7/15\n",
            "62/62 [==============================] - 29s 470ms/step - loss: 0.0690 - precision: 0.9589 - recall: 0.9417 - accuracy: 0.9124 - f1: 0.9502\n",
            "Epoch 8/15\n",
            "62/62 [==============================] - 29s 462ms/step - loss: 0.1258 - precision: 0.9660 - recall: 0.8924 - accuracy: 0.8765 - f1: 0.9277\n",
            "Epoch 9/15\n",
            "62/62 [==============================] - 29s 472ms/step - loss: 0.0394 - precision: 0.9667 - recall: 0.9103 - accuracy: 0.8924 - f1: 0.9376\n",
            "Epoch 10/15\n",
            "62/62 [==============================] - 29s 467ms/step - loss: 0.0271 - precision: 0.9630 - recall: 0.9327 - accuracy: 0.9084 - f1: 0.9476\n",
            "Epoch 11/15\n",
            "62/62 [==============================] - 29s 479ms/step - loss: 0.0262 - precision: 0.9635 - recall: 0.9462 - accuracy: 0.9203 - f1: 0.9548\n",
            "Epoch 12/15\n",
            "62/62 [==============================] - 29s 464ms/step - loss: 0.0225 - precision: 0.9638 - recall: 0.9552 - accuracy: 0.9283 - f1: 0.9595\n",
            "Epoch 13/15\n",
            "62/62 [==============================] - 29s 476ms/step - loss: 0.0210 - precision: 0.9638 - recall: 0.9552 - accuracy: 0.9283 - f1: 0.9595\n",
            "Epoch 14/15\n",
            "62/62 [==============================] - 29s 472ms/step - loss: 0.0201 - precision: 0.9638 - recall: 0.9552 - accuracy: 0.9283 - f1: 0.9595\n",
            "Epoch 15/15\n",
            "62/62 [==============================] - 29s 470ms/step - loss: 0.0200 - precision: 0.9636 - recall: 0.9507 - accuracy: 0.9243 - f1: 0.9571\n"
          ]
        }
      ]
    },
    {
      "cell_type": "code",
      "source": [
        "history_df = pd.DataFrame(data=history.history)\n",
        "history_df.to_csv('drive/MyDrive/TCC/histories/base-unbalanced-history.csv')\n",
        "history_df.mean()"
      ],
      "metadata": {
        "colab": {
          "base_uri": "https://localhost:8080/"
        },
        "id": "IuX-GiyQFgK1",
        "outputId": "874ccf28-7630-40e2-8cc6-59dc81950756"
      },
      "execution_count": 31,
      "outputs": [
        {
          "output_type": "execute_result",
          "data": {
            "text/plain": [
              "loss         0.155272\n",
              "precision    0.966058\n",
              "recall       0.857399\n",
              "accuracy     0.845418\n",
              "f1           0.899901\n",
              "dtype: float64"
            ]
          },
          "metadata": {},
          "execution_count": 31
        }
      ]
    },
    {
      "cell_type": "code",
      "source": [
        "metrics = history_df.columns\n",
        "plot_metrics(history, metrics, 'Unbalanced training results')"
      ],
      "metadata": {
        "id": "EpqoBXTjSHOM",
        "colab": {
          "base_uri": "https://localhost:8080/",
          "height": 610
        },
        "outputId": "f327a728-f1cb-4191-b5dc-2ceacc7a6404"
      },
      "execution_count": 33,
      "outputs": [
        {
          "output_type": "display_data",
          "data": {
            "text/plain": [
              "<Figure size 864x720 with 5 Axes>"
            ],
            "image/png": "[encoded data removed]"
          },
          "metadata": {
            "needs_background": "light"
          }
        }
      ]
    },
    {
      "cell_type": "code",
      "source": [
        "labels = df['test']['label']\n",
        "encodings = tokenizer(df['test']['text'], return_tensors=\"np\", padding=\"longest\")\n",
        "\n",
        "outputs = model(encodings).logits\n",
        "pred = np.argmax(outputs, axis=1)\n",
        "\n",
        "plot_confusion_matrix(labels, pred)\n"
      ],
      "metadata": {
        "id": "u0r8t4wwMJ9G",
        "colab": {
          "base_uri": "https://localhost:8080/",
          "height": 600
        },
        "outputId": "292b2007-de0c-4e49-d890-3f96d092da68"
      },
      "execution_count": 29,
      "outputs": [
        {
          "output_type": "stream",
          "name": "stdout",
          "text": [
            "True Negatives:  8\n",
            "False Positives:  6\n",
            "False Negatives:  52\n",
            "True Positives:  73\n",
            "Total Positives:  125\n"
          ]
        },
        {
          "output_type": "display_data",
          "data": {
            "text/plain": [
              "<Figure size 576x576 with 2 Axes>"
            ],
            "image/png": "[encoded data removed]"
          },
          "metadata": {
            "needs_background": "light"
          }
        }
      ]
    },
    {
      "cell_type": "code",
      "source": [
        "# balanced_history = balanced_model.fit(tf_train_set, epochs=NUM_EPOCHS, callbacks=balanced_callbacks, class_weight=class_weight)\n",
        "# balanced_model.save_weights('drive/MyDrive/TCC/weights/base-balanced-weights.h5')"
      ],
      "metadata": {
        "id": "4U0GGKhI58sf"
      },
      "execution_count": null,
      "outputs": []
    },
    {
      "cell_type": "code",
      "source": [
        "# plot_metrics(balanced_history, metrics, 'Balanced training results')"
      ],
      "metadata": {
        "id": "86Feigv_65PS"
      },
      "execution_count": null,
      "outputs": []
    }
  ]
}